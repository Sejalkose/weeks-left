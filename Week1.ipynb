{
  "nbformat": 4,
  "nbformat_minor": 0,
  "metadata": {
    "colab": {
      "provenance": [],
      "authorship_tag": "ABX9TyNsCQoLAVwZf64uW8o3zDJz",
      "include_colab_link": true
    },
    "kernelspec": {
      "name": "python3",
      "display_name": "Python 3"
    },
    "language_info": {
      "name": "python"
    }
  },
  "cells": [
    {
      "cell_type": "markdown",
      "metadata": {
        "id": "view-in-github",
        "colab_type": "text"
      },
      "source": [
        "<a href=\"https://colab.research.google.com/github/Sejalkose/weeks-left/blob/main/Week1.ipynb\" target=\"_parent\"><img src=\"https://colab.research.google.com/assets/colab-badge.svg\" alt=\"Open In Colab\"/></a>"
      ]
    },
    {
      "cell_type": "code",
      "execution_count": 1,
      "metadata": {
        "colab": {
          "base_uri": "https://localhost:8080/"
        },
        "id": "lcKyIMBIgFY8",
        "outputId": "6ca1e41f-fafe-4e8d-8aa3-d292be0d75ab"
      },
      "outputs": [
        {
          "output_type": "stream",
          "name": "stdout",
          "text": [
            "Enter your age :22\n",
            "You have 3536 weeks left.\n"
          ]
        }
      ],
      "source": [
        "age = input(\"Enter your age :\")\n",
        "#assume you'll live till 90\n",
        "years = 90 - int(age)\n",
        "#years left * week in 1 year\n",
        "weeks = years * 52\n",
        "print(f\"You have {weeks} weeks left.\")"
      ]
    }
  ]
}